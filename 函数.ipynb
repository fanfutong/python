{
 "cells": [
  {
   "cell_type": "code",
   "execution_count": 2,
   "id": "1a1b76cc-9876-4b87-9b35-585cf3755f26",
   "metadata": {},
   "outputs": [
    {
     "name": "stdin",
     "output_type": "stream",
     "text": [
      "m =  12\n",
      "n =  6\n"
     ]
    },
    {
     "name": "stdout",
     "output_type": "stream",
     "text": [
      "924\n"
     ]
    }
   ],
   "source": [
    "'''\n",
    "输入M和N计算C(M,N)\n",
    "'''\n",
    "m = int(input('m = '))\n",
    "n = int(input('n = '))\n",
    "# 计算m的阶乘\n",
    "fm = 1\n",
    "for num in range(1, m + 1):\n",
    "    fm *= num\n",
    "# 计算n的阶乘\n",
    "fn = 1\n",
    "for num in range(1, n + 1):\n",
    "    fn *= num\n",
    "# 计算m-n的阶乘\n",
    "fk = 1\n",
    "for num in range(1, m - n + 1):\n",
    "    fk *= num\n",
    "# 计算C(M,N)的值\n",
    "print(fm // fn // fk)"
   ]
  },
  {
   "cell_type": "code",
   "execution_count": 1,
   "id": "b25c4756-b61e-4a8a-ba08-0d87958bdf02",
   "metadata": {},
   "outputs": [
    {
     "name": "stdin",
     "output_type": "stream",
     "text": [
      "m =  32\n",
      "n =  12\n"
     ]
    },
    {
     "name": "stdout",
     "output_type": "stream",
     "text": [
      "225792840\n"
     ]
    }
   ],
   "source": [
    "'''\n",
    "输入M和N计算C(M,N)\n",
    "'''\n",
    "# 定义函数：def是定义函数的关键字、fac是函数名，num是参数（自变量）\n",
    "def fac(num):\n",
    "    '''求阶乘'''\n",
    "    result = 1\n",
    "    for n in range(1, num + 1):\n",
    "        result *= n\n",
    "    # 返回num的阶乘（因变量）\n",
    "    return result\n",
    "m = int(input('m = '))\n",
    "n = int(input('n = '))\n",
    "print(fac(m) // fac(n) // fac(m - n))"
   ]
  },
  {
   "cell_type": "code",
   "execution_count": 5,
   "id": "d3fdc195-49c6-46b4-942a-f459abf4dcbe",
   "metadata": {},
   "outputs": [
    {
     "name": "stdout",
     "output_type": "stream",
     "text": [
      "7\n",
      "8\n"
     ]
    }
   ],
   "source": [
    "'''\n",
    "参数的默认值\n",
    "'''\n",
    "from random import randint\n",
    "# 定义摇色子的函数，n表示色子的个数，默认值为2\n",
    "def roll_dice(n=2):\n",
    "    '''摇色子返回总的点数'''\n",
    "    total = 0\n",
    "    for _ in range(n):\n",
    "        total += randint(1, 6)\n",
    "    return total\n",
    "print(roll_dice())\n",
    "print(roll_dice(3))"
   ]
  },
  {
   "cell_type": "code",
   "execution_count": 6,
   "id": "041ce4c8-9470-4445-9a32-ddcceadd231d",
   "metadata": {},
   "outputs": [
    {
     "name": "stdout",
     "output_type": "stream",
     "text": [
      "0\n",
      "1\n",
      "3\n",
      "6\n",
      "350\n"
     ]
    }
   ],
   "source": [
    "def add(a=0, b=0, c=0):\n",
    "    '''三个数相加求和'''\n",
    "    return a + b + c\n",
    "print(add())\n",
    "print(add(1))\n",
    "print(add(1, 2))\n",
    "print(add(1, 2, 3))\n",
    "print(add(c=50, a=100, b=200))"
   ]
  },
  {
   "cell_type": "code",
   "execution_count": 8,
   "id": "bda26bea-313f-4c3a-b291-300bc7cc062e",
   "metadata": {},
   "outputs": [
    {
     "name": "stdout",
     "output_type": "stream",
     "text": [
      "0\n",
      "1\n",
      "3\n"
     ]
    }
   ],
   "source": [
    "'''\n",
    "可变参数\n",
    "'''\n",
    "def add(*args):\n",
    "    total = 0\n",
    "    for val in args:\n",
    "        if type(val) in (int, float):\n",
    "            total += val\n",
    "    return total\n",
    "print(add())\n",
    "print(add(1))\n",
    "print(add(1, 2))"
   ]
  },
  {
   "cell_type": "code",
   "execution_count": 8,
   "id": "47c74201-105c-490f-92f6-9e7ba266b6ec",
   "metadata": {},
   "outputs": [
    {
     "name": "stdout",
     "output_type": "stream",
     "text": [
      "XBxN\n",
      "7JOq\n",
      "0fRn\n"
     ]
    }
   ],
   "source": [
    "import random\n",
    "import string\n",
    "\n",
    "# 定义所有可能用到的字符\n",
    "all_chars = string.digits + string.ascii_letters\n",
    "\n",
    "def generate_code(code_len=4):\n",
    "    \"\"\"\n",
    "    生成指定长度的验证码\n",
    "\n",
    "    :param code_len: 验证码长度\n",
    "    :return: 由大小写英文字母和数字构成的随机验证码字符串\n",
    "    \"\"\"\n",
    "    return ''.join(random.choices(all_chars, k=code_len))\n",
    "\n",
    "# 生成并打印10个验证码\n",
    "for _ in range(3):\n",
    "    print(generate_code())"
   ]
  },
  {
   "cell_type": "code",
   "execution_count": 4,
   "id": "97ed5a1a-5773-4400-800d-6909ed78af28",
   "metadata": {},
   "outputs": [
    {
     "name": "stdout",
     "output_type": "stream",
     "text": [
      ".txt\n",
      ".md\n"
     ]
    }
   ],
   "source": [
    "def get_suffix(filename, ignore_dot=True):\n",
    "    '''获取文件名的后缀名\n",
    "\n",
    "    :param filename：文件名\n",
    "    :param ignore_dot：是否忽略后缀名前面的点\n",
    "    :return: 文件后缀名\n",
    "    '''\n",
    "    # 从字符串中逆向查找.出现的位置\n",
    "    pos = filename.rfind('.')  # find是从前向后查找字符在字符串中出现的位置，rfind是从后向前找\n",
    "    # 通过切片操作从文件名中提取后缀名\n",
    "    if pos <= 0:  # 如果pos小于等于0，说明点在最后面\n",
    "        return ''  # 返回空白结果\n",
    "    return filename[pos + 1:] if ignore_dot else filename[pos:]  # 字符串进行切片，运算符是[i:j:k]，其中i是开始索引，索引对应的字符可以取到；j是结束索引，索引对应的字符不能取到；k是步长，默认值为1\n",
    "print(get_suffix('readme.txt'))\n",
    "print(get_suffix('readme.txt.md'))"
   ]
  },
  {
   "cell_type": "code",
   "execution_count": 4,
   "id": "d774fa61-6fbf-4fe2-bf14-e8ee21f6abb8",
   "metadata": {},
   "outputs": [
    {
     "name": "stdout",
     "output_type": "stream",
     "text": [
      "text\n"
     ]
    }
   ],
   "source": [
    "from os.path import splitext #从os.path模块导入splitext函数\n",
    "\n",
    "def get_suffix(filename):\n",
    "    return splitext(filename)[1][1:]\n",
    "print(get_suffix('readme.text'))"
   ]
  },
  {
   "cell_type": "code",
   "execution_count": 19,
   "id": "b78ac525-1d86-4310-9cac-7ff74e55c5ce",
   "metadata": {},
   "outputs": [
    {
     "name": "stdin",
     "output_type": "stream",
     "text": [
      " 2\n"
     ]
    },
    {
     "name": "stdout",
     "output_type": "stream",
     "text": [
      "True\n"
     ]
    }
   ],
   "source": [
    "num = int(input())\n",
    "def is_prime(num: int) -> bool:\n",
    "    \"\"\"判断一个正整数是不是质数\n",
    "\n",
    "    :param num: 正整数\n",
    "    :return: 如果是质数返回True，否则返回False\n",
    "    \"\"\"\n",
    "    for i in range(2, int(num ** 0.5) + 1):\n",
    "        if num % i == 0:\n",
    "            return False\n",
    "    return True if num != 1 else False\n",
    "print(is_prime(num))"
   ]
  },
  {
   "cell_type": "code",
   "execution_count": 7,
   "id": "dff5f030-0ad8-4ff2-bbf9-e32a4514b9aa",
   "metadata": {},
   "outputs": [
    {
     "name": "stdin",
     "output_type": "stream",
     "text": [
      "输入第一个数： 63\n",
      "输入第二个数： 41\n"
     ]
    },
    {
     "name": "stdout",
     "output_type": "stream",
     "text": [
      "(1, 2583)\n"
     ]
    }
   ],
   "source": [
    "# 写出计算两个正整数最大公约数和最小公倍数的函数\n",
    "x = int(input('输入第一个数：'))\n",
    "y = int(input('输入第二个数：'))\n",
    "def gcd_and_lcm(x: int, y: int) -> int:\n",
    "    '''求最大公约数和最小公倍数'''\n",
    "    a, b = x, y\n",
    "    while b % a != 0:\n",
    "        a, b = b % a, a\n",
    "    return a, x * y // a\n",
    "print(gcd_and_lcm(x, y))"
   ]
  },
  {
   "cell_type": "code",
   "execution_count": 8,
   "id": "881ed3d4-8d2e-4278-b5f1-c83aaf1ed6ef",
   "metadata": {},
   "outputs": [],
   "source": [
    "# 写出计算两个正整数最大公约数和最小公倍数的函数\n",
    "def gcd(x: int, y: int) -> int:\n",
    "    '''求最大公约数'''\n",
    "    while y % x != 0:\n",
    "        x, y = y % x, x\n",
    "    return x\n",
    "def lcm(x: int, y: int) -> int:\n",
    "    '''求最小公倍数'''\n",
    "    return x * y // gcd(x, y)"
   ]
  },
  {
   "cell_type": "code",
   "execution_count": null,
   "id": "ad0b3bbf-a72e-4e08-853e-247d4b4f9d62",
   "metadata": {},
   "outputs": [],
   "source": [
    "# 写出计算一组样本数据描述性统计信息的函数\n",
    "import math\n",
    "\n",
    "def ptp(data):\n",
    "    '''求极差'''\n",
    "    return max(data) - min(data)\n",
    "\n",
    "def average(data):\n",
    "    '''求均值'''\n",
    "    return sum(data) / len(data)\n",
    "\n",
    "def variance(data):\n",
    "    '''求方差'''\n",
    "    x_bar = average(data)\n",
    "    temp = [(num - x_bar) ** 2 for num in data]\n",
    "    return sum(temp) / (len(temp) - 1)\n",
    "\n",
    "def standard_deviation(data):\n",
    "    '''求标准差'''\n",
    "    return math.sqrt(variance(data))\n",
    "\n",
    "def median(data):\n",
    "    '''找中位数'''\n",
    "    temp, size = sorted(data), len(data)\n",
    "    if size % 2 != 0:\n",
    "        return temp[size // 2]\n",
    "    else:\n",
    "        return average(temp[size // 2 - 1:size // 2 + 1])"
   ]
  },
  {
   "cell_type": "code",
   "execution_count": 2,
   "id": "bc012ad1-80c6-4e47-9286-a482e532295a",
   "metadata": {},
   "outputs": [
    {
     "name": "stdout",
     "output_type": "stream",
     "text": [
      "a = 1, b = 2, c = 3\n",
      "False\n",
      "a = 1, b = 2, c = 3\n",
      "False\n",
      "a = 1, b = 2, c = 3\n",
      "False\n"
     ]
    }
   ],
   "source": [
    "def is_triangle(a, b, c):\n",
    "    print(f'a = {a}, b = {b}, c = {c}')\n",
    "    return a + b > c and b + c > a and a + c > b\n",
    "\n",
    "print(is_triangle(1, 2, 3))\n",
    "print(is_triangle(a = 1, b = 2, c = 3))\n",
    "print(is_triangle(c = 3, a = 1, b = 2))"
   ]
  },
  {
   "cell_type": "code",
   "execution_count": 2,
   "id": "e5d4f144-6767-4703-a189-3b19b4dcfae6",
   "metadata": {},
   "outputs": [
    {
     "name": "stdout",
     "output_type": "stream",
     "text": [
      "6\n"
     ]
    }
   ],
   "source": [
    "def calc(*args, **kwargs):\n",
    "    result = 0\n",
    "    for arg in args:\n",
    "        if type(arg) in (int, float):\n",
    "            result += arg\n",
    "    for value in kwargs.values():\n",
    "        if type(value) in (int, float):\n",
    "            result += value\n",
    "    return result\n",
    "\n",
    "print(calc(a=1, b=2, c=3))"
   ]
  },
  {
   "cell_type": "code",
   "execution_count": null,
   "id": "d879b056-9583-4bc6-9a34-7f4f2e0fee22",
   "metadata": {},
   "outputs": [],
   "source": []
  }
 ],
 "metadata": {
  "kernelspec": {
   "display_name": "Python 3 (ipykernel)",
   "language": "python",
   "name": "python3"
  },
  "language_info": {
   "codemirror_mode": {
    "name": "ipython",
    "version": 3
   },
   "file_extension": ".py",
   "mimetype": "text/x-python",
   "name": "python",
   "nbconvert_exporter": "python",
   "pygments_lexer": "ipython3",
   "version": "3.12.2"
  }
 },
 "nbformat": 4,
 "nbformat_minor": 5
}

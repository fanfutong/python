{
 "cells": [
  {
   "cell_type": "code",
   "execution_count": 11,
   "id": "2fb7ecec-e0f5-4884-80d7-fac0da277515",
   "metadata": {},
   "outputs": [
    {
     "name": "stdout",
     "output_type": "stream",
     "text": [
      "False\n",
      "True\n",
      "False\n",
      "False\n",
      "False\n",
      "True\n"
     ]
    }
   ],
   "source": [
    "# 字符串性质判断\n",
    "s1 = 'hello world'\n",
    "print(s1.startswith('HE'))\n",
    "print(s1.startswith('he'))\n",
    "print(s1.endswith('!'))\n",
    "s2 = 'abc123456'\n",
    "print(s2.isdigit())\n",
    "print(s2.isalpha())\n",
    "print(s2.isalnum())"
   ]
  },
  {
   "cell_type": "code",
   "execution_count": 13,
   "id": "dae21759-3184-4690-a7b4-ca2c4e32f674",
   "metadata": {},
   "outputs": [
    {
     "name": "stdout",
     "output_type": "stream",
     "text": [
      "****hello, world****\n"
     ]
    }
   ],
   "source": [
    "# 格式化字符串\n",
    "s = 'hello, world'\n",
    "print(s.center(20, '*'))"
   ]
  },
  {
   "cell_type": "code",
   "execution_count": 2,
   "id": "851c2e65-17bf-41ed-b9b6-c4abf6bfef63",
   "metadata": {},
   "outputs": [
    {
     "name": "stdout",
     "output_type": "stream",
     "text": [
      "b'\\xe7\\xbd\\x97\\xe6\\xb5\\xa9' b'\\xc2\\xde\\xba\\xc6'\n",
      "罗浩\n",
      "罗浩\n"
     ]
    }
   ],
   "source": [
    "a = '罗浩'\n",
    "b = a.encode('utf-8')\n",
    "c = a.encode('gbk')\n",
    "print(b, c)\n",
    "print(b.decode('utf-8'))\n",
    "print(c.decode('gbk'))"
   ]
  },
  {
   "cell_type": "code",
   "execution_count": 3,
   "id": "1fbfc975-9410-424f-a499-0c40c1256702",
   "metadata": {},
   "outputs": [
    {
     "name": "stdout",
     "output_type": "stream",
     "text": [
      "['I', 'love', 'you', 'so', 'much']\n",
      "['I', 'love', 'you', 'so#much']\n"
     ]
    }
   ],
   "source": [
    "s = 'I#love#you#so#much'\n",
    "words = s.split('#')\n",
    "print(words)  # ['I', 'love', 'you', 'so', 'much']\n",
    "words = s.split('#', 3)\n",
    "print(words)  # ['I', 'love', 'you', 'so#much']"
   ]
  },
  {
   "cell_type": "code",
   "execution_count": 10,
   "id": "a54a6c5b-dd41-4787-84ec-38fc74889680",
   "metadata": {},
   "outputs": [
    {
     "name": "stdout",
     "output_type": "stream",
     "text": [
      "{1, 2, 3}\n",
      "3\n",
      "{'l', 'e', 'h', 'o'}\n",
      "{1, 2, 3}\n",
      "{3, 5, 6, 9, 10, 12, 15, 18}\n",
      "3\n",
      "5\n",
      "6\n",
      "9\n",
      "10\n",
      "12\n",
      "15\n",
      "18\n"
     ]
    }
   ],
   "source": [
    "# 集合\n",
    "set1 = {1, 2, 3, 3, 3, 2}\n",
    "print(set1)\n",
    "print(len(set1))\n",
    "set2 = set('hello')\n",
    "print(set2)\n",
    "set3 = set([1, 2, 3, 3, 2, 1])\n",
    "print(set3)\n",
    "set4 = {num for num in range(1, 20) if num % 3 == 0 or num % 5 == 0}\n",
    "print(set4)\n",
    "for elem in set4:\n",
    "    print(elem)"
   ]
  },
  {
   "cell_type": "code",
   "execution_count": 19,
   "id": "835992e6-172f-41ea-87e6-50035f3ab176",
   "metadata": {},
   "outputs": [
    {
     "name": "stdout",
     "output_type": "stream",
     "text": [
      "False\n",
      "True\n",
      "{2, 4, 6}\n",
      "{2, 4, 6}\n",
      "{1, 2, 3, 4, 5, 6, 7, 8, 10}\n",
      "{1, 2, 3, 4, 5, 6, 7, 8, 10}\n",
      "{1, 3, 5, 7}\n",
      "{1, 3, 5, 7}\n",
      "{1, 3, 5, 7, 8, 10}\n"
     ]
    }
   ],
   "source": [
    "# 集合的运算\n",
    "set1 = {11, 12, 13, 14, 15}\n",
    "print(10 in set1)\n",
    "print(11 in set1)\n",
    "set1 = {1, 2, 3, 4, 5, 6, 7}\n",
    "set2 = {2, 4, 6, 8, 10}\n",
    "print(set1 & set2)\n",
    "print(set1.intersection(set2))\n",
    "print(set1 | set2)\n",
    "print(set1.union(set2))\n",
    "print(set1 - set2)\n",
    "print(set1.difference(set2))\n",
    "print(set1 ^ set2)"
   ]
  },
  {
   "cell_type": "code",
   "execution_count": 21,
   "id": "48383ae7-8d78-43a3-abcc-e7423797156c",
   "metadata": {},
   "outputs": [
    {
     "name": "stdout",
     "output_type": "stream",
     "text": [
      "{1, 2, 3, 4, 5, 6, 7}\n",
      "{3, 6}\n"
     ]
    }
   ],
   "source": [
    "set1 = {1, 3, 5, 7}\n",
    "set2 = {2, 4, 6}\n",
    "set1 |= set2\n",
    "print(set1)\n",
    "set3 = {3, 6, 9}\n",
    "set1 &= set3\n",
    "print(set1)"
   ]
  },
  {
   "cell_type": "code",
   "execution_count": 2,
   "id": "1dd1c772-96dc-40d3-94e7-09a7d72f5906",
   "metadata": {},
   "outputs": [
    {
     "name": "stdout",
     "output_type": "stream",
     "text": [
      "True True\n",
      "False True\n",
      "True\n",
      "True\n",
      "True\n"
     ]
    }
   ],
   "source": [
    "set1 = {1, 3, 5}\n",
    "set2 = {1, 2, 3, 4, 5}\n",
    "set3 = set2\n",
    "print(set1 < set2, set1 <= set2)\n",
    "print(set2 < set3, set2 <= set3)\n",
    "print(set1.issubset(set2))\n",
    "print(set2.issuperset(set1))\n",
    "print(set2 > set1)"
   ]
  },
  {
   "cell_type": "code",
   "execution_count": 9,
   "id": "4067ff44-4de6-486c-b990-ac6c951ec1ef",
   "metadata": {},
   "outputs": [
    {
     "name": "stdout",
     "output_type": "stream",
     "text": [
      "{33, 1, 100, 55, 1000, 10}\n",
      "{33, 1, 55, 1000, 10}\n",
      "{33, 1, 55, 1000}\n",
      "33\n",
      "set()\n",
      "False\n",
      "True\n"
     ]
    }
   ],
   "source": [
    "# 创建一个空集合\n",
    "set1 = set()\n",
    "# 通过add方法添加元素\n",
    "set1.add(33)\n",
    "set1.add(55)\n",
    "set1.update({1, 10, 100, 1000})\n",
    "print(set1)\n",
    "set1.discard(100)\n",
    "set1.discard(99)\n",
    "print(set1)\n",
    "if 10 in set1:\n",
    "    set1.remove(10)\n",
    "print(set1)\n",
    "print(set1.pop())\n",
    "set1.clear()\n",
    "print(set1)\n",
    "\n",
    "set1 = {'java', 'python', 'go', 'kotlin'}\n",
    "set2 = {'lotlin', 'swift', 'java', 'objective', 'dart'}\n",
    "set3 = {'HTML', 'CSS', 'javascript'}\n",
    "print(set1.isdisjoint(set2))\n",
    "print(set1.isdisjoint(set3))"
   ]
  },
  {
   "cell_type": "code",
   "execution_count": 10,
   "id": "ff997d24-9ab7-4e4e-8956-1ecc6e7d3873",
   "metadata": {},
   "outputs": [
    {
     "name": "stdout",
     "output_type": "stream",
     "text": [
      "frozenset({1, 3, 5})\n",
      "frozenset({1, 2, 3, 4, 5, 7})\n",
      "frozenset({7})\n",
      "False\n"
     ]
    }
   ],
   "source": [
    "set1 = frozenset({1, 3, 5, 7})\n",
    "set2 = frozenset(range(1, 6))\n",
    "print(set1 & set2)\n",
    "print(set1 | set2)\n",
    "print(set1 - set2)\n",
    "print(set1 < set2)"
   ]
  },
  {
   "cell_type": "code",
   "execution_count": 11,
   "id": "a67681ee-2251-4a6f-9182-c2f620fe8c99",
   "metadata": {},
   "outputs": [
    {
     "name": "stdout",
     "output_type": "stream",
     "text": [
      "{'麓': '山脚下', '路': '道，往来通行的地方；方面，地区：南～货，外～货；种类：他俩是一～人', '蕗': '甘草的别名', '潞': '潞水，水名，即今山西省的浊漳河；潞江，水名，即云南省的怒江'}\n",
      "{'name': '王大锤', 'age': 55, 'weight': 60, 'office': '科华北路62号', 'home': '中同仁路8号', 'tel': '13122334455', 'econtact': '13800998877'}\n"
     ]
    }
   ],
   "source": [
    "xinhua = {\n",
    "    '麓': '山脚下',\n",
    "    '路': '道，往来通行的地方；方面，地区：南～货，外～货；种类：他俩是一～人',\n",
    "    '蕗': '甘草的别名',\n",
    "    '潞': '潞水，水名，即今山西省的浊漳河；潞江，水名，即云南省的怒江'\n",
    "}\n",
    "print(xinhua)\n",
    "person = {\n",
    "    'name': '王大锤', 'age': 55, 'weight': 60, 'office': '科华北路62号',\n",
    "    'home': '中同仁路8号', 'tel': '13122334455', 'econtact': '13800998877'\n",
    "}\n",
    "print(person)"
   ]
  },
  {
   "cell_type": "code",
   "execution_count": 7,
   "id": "bfb4ee2e-b0bf-4328-8009-0cff4002404f",
   "metadata": {},
   "outputs": [
    {
     "name": "stdout",
     "output_type": "stream",
     "text": [
      "{'name': '王大锤', 'age': 55, 'weight': 60, 'home': '中铜仁路8号'}\n",
      "{'A': '1', 'B': '2', 'C': '3', 'D': '4', 'E': '5'}\n",
      "{'A': 1, 'B': 2, 'C': 3, 'D': 4, 'E': 5}\n",
      "{1: 1, 2: 8, 3: 27, 4: 64, 5: 125}\n"
     ]
    }
   ],
   "source": [
    "person = dict(name='王大锤', age=55, weight=60, home='中铜仁路8号')\n",
    "print(person)\n",
    "items1 = dict(zip('ABCDE', '12345'))\n",
    "print(items1)\n",
    "items2 = dict(zip('ABCDE', range(1,10)))\n",
    "print(items2)\n",
    "items3 = {x: x ** 3 for x in range(1, 6)}\n",
    "print(items3)"
   ]
  },
  {
   "cell_type": "code",
   "execution_count": 8,
   "id": "18365f64-d021-4221-94c0-a1ea9697bdc8",
   "metadata": {},
   "outputs": [
    {
     "name": "stdout",
     "output_type": "stream",
     "text": [
      "3\n",
      "name\n",
      "age\n",
      "weight\n"
     ]
    }
   ],
   "source": [
    "person = {'name': 'wangdachui', 'age': 66, 'weight': 49}\n",
    "print(len(person))\n",
    "for key in person:\n",
    "    print(key)"
   ]
  },
  {
   "cell_type": "code",
   "execution_count": 13,
   "id": "2ca30ebb-052e-4daf-b2d0-0981460f55ea",
   "metadata": {},
   "outputs": [
    {
     "name": "stdout",
     "output_type": "stream",
     "text": [
      "True False\n",
      "True True\n",
      "6\n",
      "name: 王大锤\n",
      "age: 25\n",
      "weight: 60\n",
      "office: 科华北路62号\n",
      "tel: 12344234545\n",
      "signature: 你的的hi电话告诉对方\n"
     ]
    }
   ],
   "source": [
    "person = {'name': '王大锤', 'age': 55, 'weight': 60, 'office': '科华北路62号'}\n",
    "print('name' in person, 'tel' in person)\n",
    "if 'age' in person:\n",
    "    person['age'] = 25\n",
    "person['tel'] = '12344234545'\n",
    "person['signature'] = '你的的hi电话告诉对方'\n",
    "print('name' in person, 'tel' in person)\n",
    "print(len(person))\n",
    "for key in person:\n",
    "    print(f'{key}: {person[key]}')"
   ]
  },
  {
   "cell_type": "code",
   "execution_count": 21,
   "id": "35757479-0c7f-41d3-b59b-f177973a3b0d",
   "metadata": {},
   "outputs": [
    {
     "name": "stdout",
     "output_type": "stream",
     "text": [
      "{'name': '白元芳', 'sex': True, 'age': 23, 'place': '河北保定'}\n",
      "None\n",
      "{'name': '无名氏'}\n",
      "dict_keys([1001, 1002, 1003])\n",
      "dict_values([{'name': '狄仁杰', 'sex': True, 'age': 22, 'place': '山西大同'}, {'name': '白元芳', 'sex': True, 'age': 23, 'place': '河北保定'}, {'name': '武则天', 'sex': False, 'age': 20, 'place': '四川广元'}])\n",
      "dict_items([(1001, {'name': '狄仁杰', 'sex': True, 'age': 22, 'place': '山西大同'}), (1002, {'name': '白元芳', 'sex': True, 'age': 23, 'place': '河北保定'}), (1003, {'name': '武则天', 'sex': False, 'age': 20, 'place': '四川广元'})])\n",
      "1001 ---> {'name': '狄仁杰', 'sex': True, 'age': 22, 'place': '山西大同'}\n",
      "1002 ---> {'name': '白元芳', 'sex': True, 'age': 23, 'place': '河北保定'}\n",
      "1003 ---> {'name': '武则天', 'sex': False, 'age': 20, 'place': '四川广元'}\n",
      "{'name': '白元芳', 'sex': True, 'age': 23, 'place': '河北保定'}\n",
      "2\n",
      "{}\n"
     ]
    }
   ],
   "source": [
    "students = {\n",
    "    1001: {'name': '狄仁杰', 'sex': True, 'age': 22, 'place': '山西大同'},\n",
    "    1002: {'name': '白元芳', 'sex': True, 'age': 23, 'place': '河北保定'},\n",
    "    1003: {'name': '武则天', 'sex': False, 'age': 20, 'place': '四川广元'}\n",
    "}\n",
    "print(students.get(1002))\n",
    "print(students.get(1005))\n",
    "print(students.get(1005, {'name': '无名氏'}))\n",
    "print(students.keys())\n",
    "print(students.values())\n",
    "print(students.items())\n",
    "for key, value in students.items():\n",
    "    print(key, '--->', value)\n",
    "stu1 = students.pop(1002)\n",
    "print(stu1)\n",
    "print(len(students))\n",
    "stu2 = students.pop(1005, {})\n",
    "print(stu2)"
   ]
  },
  {
   "cell_type": "code",
   "execution_count": 22,
   "id": "08bb6dce-dec6-4aaf-a86c-fe16b4548a44",
   "metadata": {},
   "outputs": [
    {
     "name": "stdout",
     "output_type": "stream",
     "text": [
      "{'name': '王大锤', 'sex': True}\n"
     ]
    }
   ],
   "source": [
    "person = {'name': '王大锤', 'age': 25, 'sex': True}\n",
    "del person['age']\n",
    "print(person)    # {'name': '王大锤', 'sex': True}"
   ]
  },
  {
   "cell_type": "code",
   "execution_count": 23,
   "id": "f0fd5990-ad80-4a58-8512-715c5b574a02",
   "metadata": {},
   "outputs": [
    {
     "name": "stdin",
     "output_type": "stream",
     "text": [
      "请输入一段话 fhdioGFKSDF'Ikhfk\n"
     ]
    },
    {
     "name": "stdout",
     "output_type": "stream",
     "text": [
      "字母f出现了2次.\n",
      "字母h出现了2次.\n",
      "字母d出现了1次.\n",
      "字母i出现了1次.\n",
      "字母o出现了1次.\n",
      "字母G出现了1次.\n",
      "字母F出现了2次.\n",
      "字母K出现了1次.\n",
      "字母S出现了1次.\n",
      "字母D出现了1次.\n",
      "字母'出现了1次.\n",
      "字母I出现了1次.\n",
      "字母k出现了2次.\n"
     ]
    }
   ],
   "source": [
    "sentence = input('请输入一段话')\n",
    "counter = {}\n",
    "for ch in sentence:\n",
    "    if 'A' <= ch <= 'Z' or 'a' <= 'z':\n",
    "        counter[ch] = counter.get(ch, 0) + 1\n",
    "for key, value in counter.items():\n",
    "    print(f'字母{key}出现了{value}次.')"
   ]
  },
  {
   "cell_type": "code",
   "execution_count": 24,
   "id": "dcd6a53b-4412-42ba-a039-4a35ff60518f",
   "metadata": {},
   "outputs": [
    {
     "name": "stdout",
     "output_type": "stream",
     "text": [
      "{'AAPL': 191.88, 'GOOG': 1186.96, 'IBM': 149.24, 'ACN': 166.89, 'FB': 208.09}\n"
     ]
    }
   ],
   "source": [
    "stocks = {\n",
    "    'AAPL': 191.88,\n",
    "    'GOOG': 1186.96,\n",
    "    'IBM': 149.24,\n",
    "    'ORCL': 48.44,\n",
    "    'ACN': 166.89,\n",
    "    'FB': 208.09,\n",
    "    'SYMC': 21.29\n",
    "}\n",
    "stocks2 = {key: value for key, value in stocks.items() if value > 100}\n",
    "print(stocks2)"
   ]
  },
  {
   "cell_type": "code",
   "execution_count": 3,
   "id": "e177dae5-f7d6-48df-a53e-db690ceb3c40",
   "metadata": {},
   "outputs": [
    {
     "data": {
      "text/plain": [
       "'000123.456'"
      ]
     },
     "execution_count": 3,
     "metadata": {},
     "output_type": "execute_result"
    }
   ],
   "source": [
    "number = 123.456\n",
    "f\"{number:10}\"\n",
    "f\"{number:010}\""
   ]
  },
  {
   "cell_type": "code",
   "execution_count": 8,
   "id": "28c01cc9-bcc3-47a5-af33-30612b7309af",
   "metadata": {},
   "outputs": [
    {
     "name": "stdin",
     "output_type": "stream",
     "text": [
      "your name: fds\n",
      "you are a boy?(y/n) g\n"
     ]
    },
    {
     "name": "stdout",
     "output_type": "stream",
     "text": [
      "authorizing...\n",
      "Welcome to the matrix Mrs fds.\n"
     ]
    }
   ],
   "source": [
    "name = input('your name:')\n",
    "gender = input('you are a boy?(y/n)')\n",
    "\n",
    "###### 输入 ######\n",
    "\n",
    "welcome_str = 'Welcome to the matrix {prefix} {name}.'\n",
    "welcome_dic = {\n",
    "    'prefix': 'Mr.' if gender == 'y' else 'Mrs',\n",
    "    'name': name\n",
    "}\n",
    "\n",
    "print('authorizing...')\n",
    "print(welcome_str.format(**welcome_dic))"
   ]
  },
  {
   "cell_type": "code",
   "execution_count": 2,
   "id": "16d85aaa-7bf6-4e03-8b5a-fcd105efe9de",
   "metadata": {},
   "outputs": [
    {
     "name": "stdin",
     "output_type": "stream",
     "text": [
      " 23\n",
      " 54\n"
     ]
    },
    {
     "name": "stdout",
     "output_type": "stream",
     "text": [
      "a + b = 2354\n",
      "type of a is <class 'str'>, type of b is <class 'str'>\n",
      "a + b = 77\n"
     ]
    }
   ],
   "source": [
    "a = input()\n",
    "b = input()\n",
    "\n",
    "print('a + b = {}'.format(a + b))\n",
    "\n",
    "print('type of a is {}, type of b is {}'.format(type(a), type(b)))\n",
    "\n",
    "print('a + b = {}'.format(int(a) + int(b)))"
   ]
  }
 ],
 "metadata": {
  "kernelspec": {
   "display_name": "Python 3 (ipykernel)",
   "language": "python",
   "name": "python3"
  },
  "language_info": {
   "codemirror_mode": {
    "name": "ipython",
    "version": 3
   },
   "file_extension": ".py",
   "mimetype": "text/x-python",
   "name": "python",
   "nbconvert_exporter": "python",
   "pygments_lexer": "ipython3",
   "version": "3.12.4"
  }
 },
 "nbformat": 4,
 "nbformat_minor": 5
}

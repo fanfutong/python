{
 "cells": [
  {
   "cell_type": "code",
   "execution_count": null,
   "id": "c837573a-a810-46d5-bb8d-22818d018202",
   "metadata": {},
   "outputs": [],
   "source": [
    "'''\n",
    "及时关闭文件\n",
    "close()\n",
    "write()函数写入后，必须显式close()\n",
    "'''\n",
    "# 文件合并\n",
    "with open(\"demo1.txt\") as f1:\n",
    "    "
   ]
  },
  {
   "cell_type": "code",
   "execution_count": 1,
   "id": "a762a944-e043-41af-9b61-c9ab527d91f1",
   "metadata": {},
   "outputs": [
    {
     "name": "stderr",
     "output_type": "stream",
     "text": [
      "usage: ipykernel_launcher.py [-h] [-number NUMBER]\n",
      "ipykernel_launcher.py: error: unrecognized arguments: -f /Users/lungfish/Library/Jupyter/runtime/kernel-b2570619-9a4d-457f-b152-34d89975a8e0.json\n"
     ]
    },
    {
     "ename": "SystemExit",
     "evalue": "2",
     "output_type": "error",
     "traceback": [
      "An exception has occurred, use %tb to see the full traceback.\n",
      "\u001b[0;31mSystemExit\u001b[0m\u001b[0;31m:\u001b[0m 2\n"
     ]
    },
    {
     "name": "stderr",
     "output_type": "stream",
     "text": [
      "/Library/Frameworks/Python.framework/Versions/3.12/lib/python3.12/site-packages/IPython/core/interactiveshell.py:3585: UserWarning: To exit: use 'exit', 'quit', or Ctrl-D.\n",
      "  warn(\"To exit: use 'exit', 'quit', or Ctrl-D.\", stacklevel=1)\n"
     ]
    }
   ],
   "source": [
    "import argparse\n",
    "# 执行方式  python3 6-1arg-1.py -number 100\n",
    "parser = argparse.ArgumentParser(description=\"这个程序用来演示参数处理\")\n",
    "# -number 表示 number 参数是可选参数\n",
    "parser.add_argument( \"-number\", help=\"输入一个数字\")\n",
    "args = parser.parse_args()\n",
    "print(f\"你输入的number参数是 {args.number} \")"
   ]
  },
  {
   "cell_type": "code",
   "execution_count": 1,
   "id": "1051a642-cedf-45c2-9828-5e11c5cb6a2d",
   "metadata": {},
   "outputs": [],
   "source": [
    "# git上传测试\n",
    "# windows git 上传测试，用家里的电脑，2024.08.03"
   ]
  }
 ],
 "metadata": {
  "kernelspec": {
   "display_name": "Python 3 (ipykernel)",
   "language": "python",
   "name": "python3"
  },
  "language_info": {
   "codemirror_mode": {
    "name": "ipython",
    "version": 3
   },
   "file_extension": ".py",
   "mimetype": "text/x-python",
   "name": "python",
   "nbconvert_exporter": "python",
   "pygments_lexer": "ipython3",
   "version": "3.12.2"
  }
 },
 "nbformat": 4,
 "nbformat_minor": 5
}

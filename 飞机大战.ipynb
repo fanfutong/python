{
 "cells": [
  {
   "cell_type": "code",
   "execution_count": null,
   "id": "7e7abbba-7dfd-49c2-8f1b-2c1cfa54dd5f",
   "metadata": {},
   "outputs": [],
   "source": [
    "'''\n",
    "对象：我方飞机、敌机\n",
    "属性：坐标、生命值\n",
    "行为：移动、命中飞机（敌我双方）\n",
    "'''\n",
    "# 需要安装pynput包\n",
    "# pip3 install pynput\n",
    "from pynput.keyboard import Key, Listener, KekyCode\n",
    "\n",
    "def on_press(key):\n",
    "    if key == KeyCode.from_char('w'):\n",
    "        print(\"你按下了 上 键\")\n",
    "    elif key == KeyCode.from_char('s'):\n",
    "        print(\"你按下了 下 键\")\n",
    "    elif key == KeyCode.from_char('a'):\n",
    "        print(\"你按下了 左 键\")\n",
    "    elif key == KeyCode.from_char('d'):\n",
    "        print(\"你按下了 右 键\")\n",
    "\n",
    "    print()\n",
    "with Listener(on_press=on_press) as listener:\n",
    "    listener.join()"
   ]
  }
 ],
 "metadata": {
  "kernelspec": {
   "display_name": "Python 3 (ipykernel)",
   "language": "python",
   "name": "python3"
  },
  "language_info": {
   "codemirror_mode": {
    "name": "ipython",
    "version": 3
   },
   "file_extension": ".py",
   "mimetype": "text/x-python",
   "name": "python",
   "nbconvert_exporter": "python",
   "pygments_lexer": "ipython3",
   "version": "3.12.2"
  }
 },
 "nbformat": 4,
 "nbformat_minor": 5
}

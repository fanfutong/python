{
 "cells": [
  {
   "cell_type": "code",
   "execution_count": null,
   "id": "809c4719-fa47-4a9d-b423-d1e41cc56b06",
   "metadata": {},
   "outputs": [],
   "source": [
    "# if条件语句的用法\n",
    "# 验证输入的用户名和密码\n",
    "\n",
    "username = input(\"请输入用户名：\")\n",
    "password = input(\"请输入密码：\")\n",
    "if username == \"admin\" and password == \"1234\":\n",
    "    print(\"身份验证成功\")\n",
    "else:\n",
    "    print(\"身份验证失败\")"
   ]
  },
  {
   "cell_type": "code",
   "execution_count": null,
   "id": "2389c0a1-7825-47a4-923f-42e1ac977944",
   "metadata": {},
   "outputs": [],
   "source": [
    "# if条件语句的用法\n",
    "# 求分段函数的值\n",
    "\n",
    "x = float(input(\"请输入自变量x的值：\"))\n",
    "if x > 1:\n",
    "    result = 3 * x + 1\n",
    "    print(f'f(x)的值是：{result}')\n",
    "elif -1 <= x <= 1:\n",
    "    result = x + 2\n",
    "    print(f'f(x)的值是：{result}')\n",
    "else:\n",
    "    result = 5 * x + 3\n",
    "    print(f'f(x)的值是：{result}')"
   ]
  },
  {
   "cell_type": "code",
   "execution_count": 2,
   "id": "2767f146-5c88-40ed-a29a-9ccdcf2d5f19",
   "metadata": {},
   "outputs": [
    {
     "name": "stdin",
     "output_type": "stream",
     "text": [
      "输入成绩： 67\n"
     ]
    },
    {
     "name": "stdout",
     "output_type": "stream",
     "text": [
      "成绩是D\n"
     ]
    }
   ],
   "source": [
    "# if条件语句的用法\n",
    "\"\"\"\n",
    "百分比成绩转换\n",
    "要求：如果输入的成绩在90分以上（含90分）输出A；80分-90分（不含90分）输出B；\n",
    "70分-80分（不含80分）输出C；60分-70分（不含70分）输出D；60分以下输出E。\n",
    "\"\"\"\n",
    "\n",
    "x = float(input(\"输入成绩：\"))\n",
    "if x >= 90:\n",
    "    print(\"成绩是A\")\n",
    "elif x >= 80:\n",
    "    print(\"成绩是B\")\n",
    "elif x >= 70:\n",
    "    print(\"成绩是C\")\n",
    "elif x >= 60:\n",
    "    print(\"成绩是D\")\n",
    "else:\n",
    "    print(\"成绩是E\")"
   ]
  },
  {
   "cell_type": "code",
   "execution_count": 7,
   "id": "98d78546-8681-4b22-ab2a-2b1da5925097",
   "metadata": {},
   "outputs": [
    {
     "name": "stdin",
     "output_type": "stream",
     "text": [
      "输入第一条边边长： 13\n",
      "输入第二条边边长： 15\n",
      "输入第三条边边长： 17\n"
     ]
    },
    {
     "name": "stdout",
     "output_type": "stream",
     "text": [
      "输入的三条边能构成三角形\n",
      "三角形面积是：93.89988019161686\n"
     ]
    }
   ],
   "source": [
    "# if条件语句的用法\n",
    "# 输入三条边长，如果能构成三角形就计算周长和面积\n",
    "\n",
    "x = float(input(\"输入第一条边边长：\"))\n",
    "y = float(input(\"输入第二条边边长：\"))\n",
    "z = float(input(\"输入第三条边边长：\"))\n",
    "if x + y > z and x + z > y and y + z > x:\n",
    "    s = x + y + z\n",
    "    half = s / 2\n",
    "    area = (half * (half - x) * (half - y) * (half - z)) ** 0.5\n",
    "    print(\"输入的三条边能构成三角形\")\n",
    "    print(f\"三角形面积是：{area}\")\n",
    "else:\n",
    "    print(\"输入的三条边不能构成三角形\")"
   ]
  },
  {
   "cell_type": "code",
   "execution_count": 10,
   "id": "9df85401-c61f-4952-8f4d-69dd3cdc1bf5",
   "metadata": {},
   "outputs": [
    {
     "name": "stdout",
     "output_type": "stream",
     "text": [
      "1~100连加的和是：5050\n"
     ]
    }
   ],
   "source": [
    "# 循环语句的应用\n",
    "# 1-100数字求和\n",
    "\n",
    "sum = 0\n",
    "for x in range(1,101):\n",
    "    sum += x\n",
    "print(f'1~100连加的和是：{sum}')"
   ]
  },
  {
   "cell_type": "code",
   "execution_count": 16,
   "id": "a780744e-6987-48a0-a24a-4adc1a92b6a8",
   "metadata": {},
   "outputs": [
    {
     "name": "stdout",
     "output_type": "stream",
     "text": [
      "1~100偶数连加的和是：2550\n"
     ]
    }
   ],
   "source": [
    "# 循环语句的应用\n",
    "# 1-100偶数求和\n",
    "\n",
    "sum = 0\n",
    "for x in range(0,101,2):\n",
    "    sum += x\n",
    "print(f'1~100偶数连加的和是：{sum}')"
   ]
  },
  {
   "cell_type": "code",
   "execution_count": 15,
   "id": "21d9b24e-38d1-4c4d-98a5-84162e5f2458",
   "metadata": {},
   "outputs": [
    {
     "name": "stdout",
     "output_type": "stream",
     "text": [
      "1~100偶数连加的和是：2550\n"
     ]
    }
   ],
   "source": [
    "# 循环语句的应用\n",
    "# 1-100偶数求和\n",
    "\n",
    "sum = 0\n",
    "for x in range(1,101):\n",
    "    if x % 2 == 0:\n",
    "        sum += x\n",
    "print(f'1~100偶数连加的和是：{sum}')"
   ]
  },
  {
   "cell_type": "code",
   "execution_count": 23,
   "id": "25ca6cb0-5e2c-46d4-a2a4-8a00f89a97c5",
   "metadata": {},
   "outputs": [
    {
     "name": "stdin",
     "output_type": "stream",
     "text": [
      "输入一个整数： 50\n"
     ]
    },
    {
     "name": "stdout",
     "output_type": "stream",
     "text": [
      "大一点\n",
      "总共输入了1次\n"
     ]
    }
   ],
   "source": [
    "# 循环语句的应用\n",
    "# 猜数字游戏\n",
    "\n",
    "import random\n",
    "x = random.randint(1,100)\n",
    "count = 0\n",
    "while True:\n",
    "    y = int(input(\"输入一个整数：\"))\n",
    "    count += 1\n",
    "    if y > x:\n",
    "        print(\"小一点\")\n",
    "    elif y < x:\n",
    "        print(\"大一点\")\n",
    "    else:\n",
    "        print(\"恭喜你，答对了\")\n",
    "        break\n",
    "print(f\"总共输入了{count}次\")"
   ]
  },
  {
   "cell_type": "code",
   "execution_count": 31,
   "id": "004437c3-8d40-4556-96b7-5a4f43a9184e",
   "metadata": {},
   "outputs": [
    {
     "name": "stdout",
     "output_type": "stream",
     "text": [
      "1x1=1 \n",
      "2x1=2 2x2=4 \n",
      "3x1=3 3x2=6 3x3=9 \n",
      "4x1=4 4x2=8 4x3=12 4x4=16 \n",
      "5x1=5 5x2=10 5x3=15 5x4=20 5x5=25 \n",
      "6x1=6 6x2=12 6x3=18 6x4=24 6x5=30 6x6=36 \n",
      "7x1=7 7x2=14 7x3=21 7x4=28 7x5=35 7x6=42 7x7=49 \n",
      "8x1=8 8x2=16 8x3=24 8x4=32 8x5=40 8x6=48 8x7=56 8x8=64 \n",
      "9x1=9 9x2=18 9x3=27 9x4=36 9x5=45 9x6=54 9x7=63 9x8=72 9x9=81 \n"
     ]
    }
   ],
   "source": [
    "# 循环语句的应用\n",
    "# 打印九九乘法表\n",
    "\n",
    "for i in range(1,10):\n",
    "    for j in range(1,i+1):\n",
    "        result = i * j\n",
    "        print(f'{i}x{j}={result}',end=' ')\n",
    "    print()"
   ]
  },
  {
   "cell_type": "code",
   "execution_count": 2,
   "id": "f1c791c7-bb2a-47a3-a7d7-2c18e2820cf9",
   "metadata": {},
   "outputs": [
    {
     "name": "stdin",
     "output_type": "stream",
     "text": [
      "输入一个正整数： 234567\n"
     ]
    },
    {
     "name": "stdout",
     "output_type": "stream",
     "text": [
      "不是素数\n"
     ]
    }
   ],
   "source": [
    "# 循环语句的应用\n",
    "# 判断是否素数；素数指的是只能被1和自身整除的大于1的整数。\n",
    "\n",
    "x = int(input(\"输入一个正整数：\"))\n",
    "is_prime = True\n",
    "for y in range(2,x-1):\n",
    "    if x % y == 0 and x != 1:\n",
    "        is_prime = False\n",
    "        break\n",
    "if is_prime:\n",
    "    print(\"是素数\")\n",
    "else:\n",
    "    print(\"不是素数\")"
   ]
  },
  {
   "cell_type": "code",
   "execution_count": 8,
   "id": "7866fdcf-092d-4b9e-bdc5-24bb8d4a3206",
   "metadata": {},
   "outputs": [
    {
     "name": "stdin",
     "output_type": "stream",
     "text": [
      "x =  13\n",
      "y =  2\n"
     ]
    },
    {
     "name": "stdout",
     "output_type": "stream",
     "text": [
      "最大公约数是1\n",
      "最大公倍数是26\n"
     ]
    }
   ],
   "source": [
    "# 循环语句的应用\n",
    "# 求两个数的最大公约数和最小公倍数。\n",
    "\n",
    "x = int(input(\"x = \"))\n",
    "y = int(input(\"y = \"))\n",
    "for factor in range(1,x + 1,1):\n",
    "    if x % factor == 0 and y % factor == 0:\n",
    "        print(f'最大公约数是{factor}')\n",
    "        print(f'最大公倍数是{(x * y) // factor}')\n",
    "        break"
   ]
  },
  {
   "cell_type": "code",
   "execution_count": 5,
   "id": "46044203-d49f-4353-9204-8b0af0690084",
   "metadata": {},
   "outputs": [
    {
     "name": "stdout",
     "output_type": "stream",
     "text": [
      "1000以内水仙花数：153\n",
      "1000以内水仙花数：370\n",
      "1000以内水仙花数：371\n",
      "1000以内水仙花数：407\n"
     ]
    }
   ],
   "source": [
    "# 分支结构和循环结构的应用\n",
    "# 寻找三位数的水仙花数，该数字每个位上数字的立方之和正好等于它本身\n",
    "\n",
    "for x in range(1,10):\n",
    "    for y in range(0,10):\n",
    "        for z in range(0,10):\n",
    "            if x ** 3 + y ** 3 + z ** 3 == x * 100 + y * 10 + z:\n",
    "                print(f'1000以内水仙花数：{x * 100 + y * 10 + z}')\n",
    "                "
   ]
  },
  {
   "cell_type": "code",
   "execution_count": 3,
   "id": "c3a50046-b87c-4071-b940-ae17b9431231",
   "metadata": {},
   "outputs": [
    {
     "name": "stdout",
     "output_type": "stream",
     "text": [
      "153\n",
      "370\n",
      "371\n",
      "407\n"
     ]
    }
   ],
   "source": [
    "# 分支结构和循环结构的应用\n",
    "# 寻找三位数的水仙花数，该数字每个位上数字的立方之和正好等于它本身\n",
    "\n",
    "for num in range(100, 1000):\n",
    "    low = num % 10\n",
    "    mid = num // 10 % 10\n",
    "    high = num // 100\n",
    "    if num == low ** 3 + mid ** 3 + high ** 3:\n",
    "        print(num)"
   ]
  },
  {
   "cell_type": "code",
   "execution_count": 9,
   "id": "976068b0-96cb-4d40-9075-9b7525156659",
   "metadata": {},
   "outputs": [
    {
     "name": "stdin",
     "output_type": "stream",
     "text": [
      "输入五位数正整数： 14625\n"
     ]
    },
    {
     "name": "stdout",
     "output_type": "stream",
     "text": [
      "反转数是：52641\n"
     ]
    }
   ],
   "source": [
    "# 分支结构和循环结构的应用\n",
    "# 正整数的反转\n",
    "\n",
    "num = int(input(\"输入五位数正整数：\"))\n",
    "x = num % 10\n",
    "y = num // 10 % 10\n",
    "z = num // 100 % 10\n",
    "k = num // 1000 % 10\n",
    "s = num // 10000\n",
    "print(f'反转数是：{x * 10000 + y * 1000 + z * 100 + k * 10 + s}')"
   ]
  },
  {
   "cell_type": "code",
   "execution_count": 18,
   "id": "0abbb7cc-207e-4ce0-947b-2bf591b5d280",
   "metadata": {},
   "outputs": [
    {
     "name": "stdout",
     "output_type": "stream",
     "text": [
      "公鸡数是0，母鸡数是25,小鸡数是75\n",
      "公鸡数是4，母鸡数是18,小鸡数是78\n",
      "公鸡数是8，母鸡数是11,小鸡数是81\n",
      "公鸡数是12，母鸡数是4,小鸡数是84\n"
     ]
    }
   ],
   "source": [
    "# 分支结构和循环结构的应用\n",
    "# 百钱百鸡问题\n",
    "\n",
    "for x in range(0,101):\n",
    "    for y in range(0,101):\n",
    "        z = 100 - x - y\n",
    "        if 5 * x + 3 * y + (1/3) * z == 100:\n",
    "            print(f'公鸡数是{x}，母鸡数是{y},小鸡数是{z}')"
   ]
  },
  {
   "cell_type": "code",
   "execution_count": null,
   "id": "d8c437b3-6b62-4dda-96e9-58253f59a6d9",
   "metadata": {},
   "outputs": [],
   "source": [
    "# 分支结构和循环结构的应用\n",
    "# 斐波那契数列：第一种写法\n",
    "\n",
    "for i in range(1, 101):\n",
    "    if i > 1:  # 素数定义为大于1的自然数\n",
    "        for j in range(2, i):\n",
    "            if i % j == 0:\n",
    "                break  # 如果i能被j整除，则i不是素数，跳出内层循环\n",
    "        else:\n",
    "            print(i)  # 如果内层循环正常结束而没有触发break，则i是素数"
   ]
  },
  {
   "cell_type": "code",
   "execution_count": null,
   "id": "42f07297-de32-44f2-9577-99fd352d772e",
   "metadata": {},
   "outputs": [],
   "source": [
    "# 分支结构和循环结构的应用\n",
    "# 斐波那契数列：第二种写法\n",
    "\n",
    "for num in range(2,100):\n",
    "    is_prime =  True\n",
    "    for factor in range(2,num):\n",
    "        if num % factor == 0:\n",
    "            is_prime = False\n",
    "            break\n",
    "    if is_prime == True:\n",
    "        print(num)"
   ]
  },
  {
   "cell_type": "code",
   "execution_count": 5,
   "id": "2f93a20d-dcf0-4365-bb7a-3b33b86cd0cd",
   "metadata": {},
   "outputs": [
    {
     "name": "stdout",
     "output_type": "stream",
     "text": [
      "出现1点的次数为1053,出现2点的次数为970,出现3点的次数为991,出现4点的次数为989,出现5点的次数为987,出现6点的次数为1010\n"
     ]
    }
   ],
   "source": [
    "import random\n",
    "f1 = 0\n",
    "f2 = 0\n",
    "f3 = 0\n",
    "f4 = 0\n",
    "f5 = 0\n",
    "f6 = 0\n",
    "for i in range(6000):\n",
    "    face = random.randint(1,6)\n",
    "    if face == 1:\n",
    "        f1 += 1\n",
    "    if face == 2:\n",
    "        f2 += 1\n",
    "    if face == 3:\n",
    "        f3 += 1\n",
    "    if face == 4:\n",
    "        f4 += 1\n",
    "    if face == 5:\n",
    "        f5 += 1\n",
    "    if face == 6:\n",
    "        f6 += 1\n",
    "print(f'出现1点的次数为{f1},出现2点的次数为{f2},出现3点的次数为{f3},出现4点的次数为{f4},出现5点的次数为{f5},出现6点的次数为{f6}')"
   ]
  },
  {
   "cell_type": "code",
   "execution_count": 26,
   "id": "33867c41-bf06-4241-a2b4-a9dd56c31129",
   "metadata": {
    "scrolled": true
   },
   "outputs": [
    {
     "name": "stdout",
     "output_type": "stream",
     "text": [
      "[35, 12, 99, 68, 55, 87, 45, 8, 29]\n",
      "['hello', 'hello', 'hello']\n",
      "False\n",
      "True\n",
      "9\n",
      "35 45\n",
      "[35, 12, 99, 68, 55, 87, 45, 8, 100]\n",
      "100 100\n",
      "[35, 12, 99, 68, 55]\n",
      "[55, 87, 45, 8, 100]\n",
      "[55, 68]\n",
      "[100, 45, 55, 99, 35]\n",
      "True\n",
      "True\n"
     ]
    }
   ],
   "source": [
    "items1 = [35, 12, 99, 68, 55, 87]\n",
    "items2 = [45, 8, 29]\n",
    "items3 = items1 + items2\n",
    "print(items3)\n",
    "items4 = [\"hello\"] * 3\n",
    "print(items4)\n",
    "print(100 in items3)\n",
    "print('hello' in items4)\n",
    "size = len(items3)\n",
    "print(size)\n",
    "print(items3[0], items3[-3])\n",
    "items3[-1] = 100\n",
    "print(items3)\n",
    "print(items3[size - 1], items3[-1])\n",
    "print(items3[:5])\n",
    "print(items3[4:])\n",
    "print(items3[-5:-7:-1])\n",
    "print(items3[::-2])\n",
    "items5 = [1, 2, 3, 4]\n",
    "items6 = list(range(1, 5))\n",
    "print(items5 == items6)\n",
    "items7 = [3, 2, 1]\n",
    "print(items5 <= items7)"
   ]
  },
  {
   "cell_type": "code",
   "execution_count": 27,
   "id": "3747ad04-19d3-475e-b702-006578811ace",
   "metadata": {},
   "outputs": [
    {
     "name": "stdout",
     "output_type": "stream",
     "text": [
      "python\n",
      "java\n",
      "go\n",
      "kotlin\n"
     ]
    }
   ],
   "source": [
    "items = ['python', 'java', 'go', 'kotlin']\n",
    "for item in items:\n",
    "    print(item)"
   ]
  },
  {
   "cell_type": "code",
   "execution_count": 28,
   "id": "d2fd4736-5527-4c79-9130-5e75f6a778ab",
   "metadata": {},
   "outputs": [
    {
     "name": "stdout",
     "output_type": "stream",
     "text": [
      "python\n",
      "java\n",
      "go\n",
      "kotlin\n"
     ]
    }
   ],
   "source": [
    "items = ['python', 'java', 'go', 'kotlin']\n",
    "for index in range(len(items)):\n",
    "    print(items[index])"
   ]
  },
  {
   "cell_type": "code",
   "execution_count": 29,
   "id": "2253a064-76ce-4f10-ba20-ecddb221de1b",
   "metadata": {},
   "outputs": [
    {
     "name": "stdout",
     "output_type": "stream",
     "text": [
      "1点出现了1027次\n",
      "2点出现了954次\n",
      "3点出现了976次\n",
      "4点出现了1012次\n",
      "5点出现了1007次\n",
      "6点出现了1024次\n"
     ]
    }
   ],
   "source": [
    "import random\n",
    "counters = [0] * 6\n",
    "for i in range(6000):\n",
    "    face = random.randint(1, 6)\n",
    "    counters[face - 1] += 1\n",
    "for face in range(1, 7):\n",
    "    print(f'{face}点出现了{counters[face - 1]}次')"
   ]
  },
  {
   "cell_type": "code",
   "execution_count": 11,
   "id": "25ffe9f7-da8e-463c-975f-abbfa20f3b73",
   "metadata": {},
   "outputs": [
    {
     "name": "stdout",
     "output_type": "stream",
     "text": [
      "['python', 'java', 'go', 'kotlin', 'swift']\n",
      "['python', 'java', 'sql', 'go', 'kotlin', 'swift']\n",
      "['python', 'sql', 'go', 'kotlin', 'swift']\n",
      "['sql', 'go', 'kotlin', 'swift']\n",
      "['sql', 'go', 'kotlin']\n",
      "[]\n"
     ]
    }
   ],
   "source": [
    "items = ['python', 'java', 'go', 'kotlin']\n",
    "# 使用append方法在列表尾部添加元素\n",
    "items.append('swift')\n",
    "print(items)\n",
    "# 使用insert方法在列表指定索引位置插入元素\n",
    "items.insert(2,'sql')\n",
    "print(items)\n",
    "# 删除指定元素\n",
    "items.remove('java')\n",
    "print(items)\n",
    "# 删除指定索引位置的元素\n",
    "items.pop(0)\n",
    "print(items)\n",
    "items.pop(len(items) - 1)\n",
    "print(items)\n",
    "# 清空列表元素\n",
    "items.clear()\n",
    "print(items)"
   ]
  },
  {
   "cell_type": "code",
   "execution_count": 19,
   "id": "fcd54e2e-23c8-4cad-9436-e889b9c8375f",
   "metadata": {},
   "outputs": [
    {
     "name": "stdout",
     "output_type": "stream",
     "text": [
      "0\n",
      "4\n",
      "2\n",
      "1\n",
      "0\n",
      "['go', 'java', 'kotlin', 'python', 'python']\n",
      "['python', 'python', 'kotlin', 'java', 'go']\n"
     ]
    }
   ],
   "source": [
    "items = ['python', 'java', 'go', 'kotlin', 'python']\n",
    "# 查找元素的索引位置\n",
    "print(items.index('python'))\n",
    "print(items.index('python', 2))\n",
    "print(items.count('python'))\n",
    "print(items.count('go'))\n",
    "print(items.count('swifit'))\n",
    "# 排序\n",
    "items.sort()\n",
    "print(items)\n",
    "# 反转\n",
    "items.reverse()\n",
    "print(items)"
   ]
  },
  {
   "cell_type": "code",
   "execution_count": 23,
   "id": "e5a990f6-09cd-43cb-9045-812b60f68432",
   "metadata": {},
   "outputs": [
    {
     "name": "stdout",
     "output_type": "stream",
     "text": [
      "[1, 2, 3, 4, 5, 6, 7, 8, 9]\n",
      "['h', 'e', 'l', 'l', 'o', 'w', 'o', 'r', 'l', 'd']\n",
      "['A1', 'A2', 'B1', 'B2', 'C1', 'C2']\n"
     ]
    }
   ],
   "source": [
    "# 创建一个由1到9的数字构成的列表\n",
    "items1 = []\n",
    "for x in range(1,10):\n",
    "    items1.append(x)\n",
    "print(items1)\n",
    "# 创建一个由'hello world'中除空格和元音字母外的字符构成的列表\n",
    "items2 = []\n",
    "for x in 'hello world':\n",
    "    if x not in ' ':\n",
    "        items2.append(x)\n",
    "print(items2)\n",
    "# 创建一个由个两个字符串中字符的笛卡尔积构成的列表\n",
    "items3 = []\n",
    "for x in 'ABC':\n",
    "    for y in '12':\n",
    "        items3.append(x + y)\n",
    "print(items3)"
   ]
  },
  {
   "cell_type": "code",
   "execution_count": 24,
   "id": "3b9ff1b2-8fcb-40e0-bb00-b03660502b15",
   "metadata": {},
   "outputs": [
    {
     "name": "stdout",
     "output_type": "stream",
     "text": [
      "[1, 2, 3, 4, 5, 6, 7, 8, 9]\n",
      "['h', 'e', 'l', 'l', 'o', 'w', 'o', 'r', 'l', 'd']\n",
      "['A1', 'A2', 'B1', 'B2', 'C1', 'C2']\n"
     ]
    }
   ],
   "source": [
    "# 创建一个由1到9的数字构成的列表\n",
    "items1 = [x for x in range(1, 10)]\n",
    "print(items1)    # [1, 2, 3, 4, 5, 6, 7, 8, 9]\n",
    "\n",
    "# 创建一个由'hello world'中除空格和元音字母外的字符构成的列表\n",
    "items2 = [x for x in 'hello world' if x not in ' ']\n",
    "print(items2)    # ['h', 'l', 'l', 'w', 'r', 'l', 'd']\n",
    "\n",
    "# 创建一个由个两个字符串中字符的笛卡尔积构成的列表\n",
    "items3 = [x + y for x in 'ABC' for y in '12']\n",
    "print(items3)    # ['A1', 'A2', 'B1', 'B2', 'C1', 'C2']"
   ]
  },
  {
   "cell_type": "code",
   "execution_count": 13,
   "id": "95568f2a-93ab-4f00-8528-8bd9ffa0bc42",
   "metadata": {},
   "outputs": [
    {
     "name": "stdout",
     "output_type": "stream",
     "text": [
      "<class 'tuple'> <class 'tuple'>\n",
      "3 4\n",
      "30 True\n",
      "四川 四川\n",
      "福建\n",
      "40\n",
      "True\n",
      "四川\n",
      "False\n",
      "False\n",
      "(30, 10, 55, '福建', 40, True, '四川')\n",
      "(30, '福建', '四川')\n",
      "False\n",
      "False\n",
      "False\n"
     ]
    }
   ],
   "source": [
    "# 定义一个三元组\n",
    "t1 = (30, 10, 55)\n",
    "# 定义一个四元组\n",
    "t2 = ('福建', 40, True, '四川')\n",
    "\n",
    "# 查看变量类型\n",
    "print(type(t1), type(t2))\n",
    "print(len(t1), len(t2))\n",
    "\n",
    "# 通过索引运算获取元组中的元素\n",
    "print(t1[0], t2[2])\n",
    "print(t2[3], t2[-1])\n",
    "\n",
    "# 循环遍历元组中的元素\n",
    "for member in t2:\n",
    "    print(member)\n",
    "\n",
    "# 成员运算\n",
    "print(100 in t2)\n",
    "print(1 in t1)\n",
    "\n",
    "# 拼接运算\n",
    "t3 = t1 + t2\n",
    "print(t3)\n",
    "\n",
    "# 切片\n",
    "print(t3[::3])\n",
    "\n",
    "# 比较运算\n",
    "print(t1 == t3)    # False\n",
    "print(t1 >= t3)    # False\n",
    "print(t1 < (30, 10, 55))    # True"
   ]
  },
  {
   "cell_type": "code",
   "execution_count": 4,
   "id": "0983e299-2004-4867-962e-f57bf65e9693",
   "metadata": {},
   "outputs": [
    {
     "name": "stdout",
     "output_type": "stream",
     "text": [
      "<class 'tuple'>\n",
      "<class 'str'>\n",
      "<class 'int'>\n",
      "<class 'tuple'>\n"
     ]
    }
   ],
   "source": [
    "# 元组\n",
    "a = ()\n",
    "print(type(a))\n",
    "b = (\"world\")\n",
    "print(type(b))\n",
    "c = (100)\n",
    "print(type(c))\n",
    "d = (100,)\n",
    "print(type(d))"
   ]
  },
  {
   "cell_type": "code",
   "execution_count": 6,
   "id": "e8ad577c-60fe-4b7a-b41f-1f4c25e4c5d0",
   "metadata": {},
   "outputs": [
    {
     "name": "stdout",
     "output_type": "stream",
     "text": [
      "<class 'tuple'> (1, 2, 3)\n",
      "1 2 3\n"
     ]
    }
   ],
   "source": [
    "# 元组的打包和解包\n",
    "a = 1, 2, 3\n",
    "print(type(a), a)\n",
    "# 解包\n",
    "i, j, k = a\n",
    "print(i, j, k)"
   ]
  },
  {
   "cell_type": "code",
   "execution_count": 1,
   "id": "b00f8ffe-0b2e-42dd-81bf-2ea8e2064e0c",
   "metadata": {},
   "outputs": [
    {
     "name": "stdout",
     "output_type": "stream",
     "text": [
      "1 2 [3, 4, 5, 6, 7, 8, 9]\n",
      "1 10 100\n",
      "1 2 [3, 4, 5, 6, 7, 8, 9]\n",
      "1 10 100\n",
      "h ['e', 'l', 'l'] o\n"
     ]
    }
   ],
   "source": [
    "# 元组的打包和解包\n",
    "a, b, *c = range(1, 10)\n",
    "print(a, b, c)\n",
    "a, b, c = [1, 10, 100]\n",
    "print(a, b, c)\n",
    "a, b, *c = range(1, 10)\n",
    "print(a, b, c)\n",
    "a, b, c = [1, 10, 100]\n",
    "print(a, b, c)\n",
    "a, *b, c = 'hello'\n",
    "print(a, b, c)"
   ]
  },
  {
   "cell_type": "code",
   "execution_count": 4,
   "id": "47757896-cfdf-402f-a4f2-2b8a8794c43f",
   "metadata": {},
   "outputs": [
    {
     "name": "stdout",
     "output_type": "stream",
     "text": [
      "800056 800040\n",
      "0.04517120000036812\n",
      "0.00877989999980855\n"
     ]
    }
   ],
   "source": [
    "import sys\n",
    "import timeit\n",
    "\n",
    "a = list(range(100000))\n",
    "b = tuple(range(100000))\n",
    "print(sys.getsizeof(a), sys.getsizeof(b))    # 900120 800056\n",
    "\n",
    "print(timeit.timeit('[1, 2, 3, 4, 5, 6, 7, 8, 9]'))\n",
    "print(timeit.timeit('(1, 2, 3, 4, 5, 6, 7, 8, 9)'))"
   ]
  },
  {
   "cell_type": "code",
   "execution_count": 5,
   "id": "dfc8d394-4157-401a-ac6d-44e56cd5c8fc",
   "metadata": {},
   "outputs": [
    {
     "name": "stdout",
     "output_type": "stream",
     "text": [
      "['骆昊', 175, True, '四川成都']\n",
      "('apple', 'banana', 'orange')\n"
     ]
    }
   ],
   "source": [
    "# 将元组转换成列表\n",
    "info = ('骆昊', 175, True, '四川成都')\n",
    "print(list(info))       # ['骆昊', 175, True, '四川成都']\n",
    "# 将列表转换成元组\n",
    "fruits = ['apple', 'banana', 'orange']\n",
    "print(tuple(fruits))    # ('apple', 'banana', 'orange')"
   ]
  },
  {
   "cell_type": "code",
   "execution_count": 10,
   "id": "05185338-7cd6-469f-b0e9-e19b0ae7447b",
   "metadata": {},
   "outputs": [
    {
     "name": "stdout",
     "output_type": "stream",
     "text": [
      "hello, world 你好，世界\n",
      "\n",
      "hello, \n",
      "world!\n"
     ]
    }
   ],
   "source": [
    "# 字符串\n",
    "s1 = 'hello, world'\n",
    "s2 = '你好，世界'\n",
    "print(s1, s2)\n",
    "s3 = '''\n",
    "hello, \n",
    "world!\n",
    "'''\n",
    "print(s3, end='')"
   ]
  },
  {
   "cell_type": "code",
   "execution_count": 19,
   "id": "0d47e2b1-dcd5-42c8-9c3d-7e4681f5398a",
   "metadata": {},
   "outputs": [
    {
     "name": "stdout",
     "output_type": "stream",
     "text": [
      "'hello, world!'\n",
      "\\hello, world!\\\n",
      "\time up \n",
      "ow\n",
      "\\time up \\now\n",
      "abcabc 骆昊\n"
     ]
    }
   ],
   "source": [
    "s1 = '\\'hello, world!\\''\n",
    "print(s1)\n",
    "s2 = '\\\\hello, world!\\\\'\n",
    "print(s2)\n",
    "s3 = '\\time up \\now'\n",
    "print(s3)\n",
    "s4 = r'\\time up \\now'\n",
    "print(s4)\n",
    "s5 = '\\141\\142\\143\\x61\\x62\\x63'\n",
    "s6 = '\\u9a86\\u660a'\n",
    "print(s5, s6)"
   ]
  },
  {
   "cell_type": "code",
   "execution_count": 23,
   "id": "010df678-7033-4ed0-ab9d-c4139dd0a515",
   "metadata": {},
   "outputs": [
    {
     "name": "stdout",
     "output_type": "stream",
     "text": [
      "hello world\n",
      "!!!\n",
      "hello world!!!\n",
      "hello world!!!hello world!!!\n"
     ]
    }
   ],
   "source": [
    "# 字符串的运算\n",
    "s1 = 'hello' + ' ' + 'world'\n",
    "print(s1)\n",
    "s2 = '!' * 3\n",
    "print(s2)\n",
    "s1 += s2\n",
    "print(s1)\n",
    "s1 *= 2\n",
    "print(s1)"
   ]
  },
  {
   "cell_type": "code",
   "execution_count": 24,
   "id": "9194c0ae-7344-4617-aab3-773f12dc2235",
   "metadata": {},
   "outputs": [
    {
     "name": "stdout",
     "output_type": "stream",
     "text": [
      "False True\n",
      "True\n",
      "False\n",
      "True\n"
     ]
    }
   ],
   "source": [
    "# 字符串的比较运算\n",
    "s1 = 'a whole new world'\n",
    "s2 = 'hello world'\n",
    "print(s1 == s2, s1 < s2)      # False True\n",
    "print(s2 == 'hello world')    # True\n",
    "print(s2 == 'Hello world')    # False\n",
    "print(s2 != 'Hello world')    # True"
   ]
  },
  {
   "cell_type": "code",
   "execution_count": 1,
   "id": "6d06c29f-9037-40c2-9a06-d95e0f0875ad",
   "metadata": {},
   "outputs": [
    {
     "name": "stdout",
     "output_type": "stream",
     "text": [
      "True True\n",
      "False True\n"
     ]
    }
   ],
   "source": [
    "# 字符串的比较运算\n",
    "s1 = 'hello world'\n",
    "s2 = 'hello world'\n",
    "s3 = s2\n",
    "print(s1 == s2, s2 == s3)\n",
    "print(s1 is s2, s2 is s3)"
   ]
  },
  {
   "cell_type": "code",
   "execution_count": 4,
   "id": "0a069c3c-0b21-4cb4-a10e-f08a8d42aa96",
   "metadata": {},
   "outputs": [
    {
     "name": "stdout",
     "output_type": "stream",
     "text": [
      "12\n",
      "14\n"
     ]
    }
   ],
   "source": [
    "# 字符串的长度\n",
    "s = 'hello, world'\n",
    "print(len(s))\n",
    "print(len('goodbye, world'))"
   ]
  },
  {
   "cell_type": "code",
   "execution_count": 26,
   "id": "ad2cda84-c971-49c4-bb22-8c2512173ead",
   "metadata": {},
   "outputs": [
    {
     "name": "stdout",
     "output_type": "stream",
     "text": [
      "a 5\n",
      "5 5\n",
      "c c\n",
      "2 2\n",
      "cd1\n",
      "cd1\n",
      "cd12345\n",
      "cd12345\n",
      "c135\n",
      "ac135\n",
      "54321dcba\n"
     ]
    }
   ],
   "source": [
    "# 字符串的索引和切片\n",
    "s = 'abcd12345'\n",
    "N = len(s)\n",
    "print(s[0], s[-1])\n",
    "print(s[N-1], s[-1])\n",
    "print(s[2], s[-7])\n",
    "print(s[5], s[-4])\n",
    "print(s[2:5])\n",
    "print(s[-7:-4])\n",
    "print(s[2:])\n",
    "print(s[-7:])\n",
    "print(s[2::2])\n",
    "print(s[::2])\n",
    "print(s[::-1])"
   ]
  },
  {
   "cell_type": "code",
   "execution_count": 29,
   "id": "267e384b-43d5-4491-b9d0-41bd470ce8ee",
   "metadata": {},
   "outputs": [
    {
     "name": "stdout",
     "output_type": "stream",
     "text": [
      "h\n",
      "e\n",
      "l\n",
      "l\n",
      "o\n",
      "h\n",
      "e\n",
      "l\n",
      "l\n",
      "o\n"
     ]
    }
   ],
   "source": [
    "# 循环遍历每个字符\n",
    "s1 = 'hello'\n",
    "for index in range(len(s1)):\n",
    "    print(s1[index])\n",
    "for ch in s1:\n",
    "    print(ch)"
   ]
  },
  {
   "cell_type": "code",
   "execution_count": 33,
   "id": "46d90ffb-64a8-4f88-922a-18e32396d8b2",
   "metadata": {},
   "outputs": [
    {
     "name": "stdout",
     "output_type": "stream",
     "text": [
      "Hello, world\n",
      "Hello, World\n",
      "HELLO, WORLD\n",
      "hello, world\n"
     ]
    }
   ],
   "source": [
    "# 字符串的方法\n",
    "s1 = 'hello, world'\n",
    "print(s1.capitalize())\n",
    "print(s1.title())\n",
    "print(s1.upper())\n",
    "print(s1.lower())"
   ]
  },
  {
   "cell_type": "code",
   "execution_count": 45,
   "id": "cfec2491-4624-48ca-9645-f67c3310c6da",
   "metadata": {},
   "outputs": [
    {
     "name": "stdout",
     "output_type": "stream",
     "text": [
      "7\n",
      "-1\n",
      "7\n",
      "4\n",
      "7\n",
      "1\n"
     ]
    }
   ],
   "source": [
    "# 字符串的查找\n",
    "s = 'hello world'\n",
    "print(s.find('or'))\n",
    "print(s.find('shit'))\n",
    "print(s.index('or'))\n",
    "print(s.find('o'))\n",
    "print(s.find('o', 5))\n",
    "print(s.rfind('e'))"
   ]
  },
  {
   "cell_type": "code",
   "execution_count": 2,
   "id": "7abc8e2c-7105-4ddd-ba7c-7151dc77656d",
   "metadata": {},
   "outputs": [
    {
     "name": "stdout",
     "output_type": "stream",
     "text": [
      "False\n",
      "True\n",
      "False\n",
      "False\n",
      "False\n",
      "True\n"
     ]
    }
   ],
   "source": [
    "# 字符串性质判断\n",
    "s1 = 'hello world'\n",
    "print(s1.startswith('HE'))\n",
    "print(s1.startswith('he'))\n",
    "print(s1.endswith('!'))\n",
    "s2 = 'abc123456'\n",
    "print(s2.isdigit())\n",
    "print(s2.isalpha())\n",
    "print(s2.isalnum())"
   ]
  },
  {
   "cell_type": "code",
   "execution_count": 8,
   "id": "ed13ceed-66a8-4341-b380-f6bd012a871e",
   "metadata": {},
   "outputs": [
    {
     "name": "stdout",
     "output_type": "stream",
     "text": [
      "****hello, world****\n",
      "        hello, world\n",
      "hello, world        \n",
      "00033\n",
      "-0033\n",
      "321 * 123 = 39483\n"
     ]
    }
   ],
   "source": [
    "# 格式化字符串\n",
    "s = 'hello, world'\n",
    "print(s.center(20, '*'))\n",
    "print(s.rjust(20))\n",
    "print(s.ljust(20))\n",
    "print('33'.zfill(5))\n",
    "print('-33'.zfill(5))\n",
    "a = 321\n",
    "b = 123\n",
    "print(f'{a} * {b} = {a * b}')"
   ]
  },
  {
   "cell_type": "code",
   "execution_count": 10,
   "id": "af78f73d-0792-430a-9991-b788c97125da",
   "metadata": {},
   "outputs": [
    {
     "name": "stdout",
     "output_type": "stream",
     "text": [
      "['I', 'love', 'you']\n",
      "I#love#you\n"
     ]
    }
   ],
   "source": [
    "s = 'I love you'\n",
    "words = s.split()\n",
    "print(words)\n",
    "print('#'.join(words))"
   ]
  },
  {
   "cell_type": "code",
   "execution_count": null,
   "id": "edf49941-2b79-46f5-8e20-636405c9fc2c",
   "metadata": {},
   "outputs": [],
   "source": []
  }
 ],
 "metadata": {
  "kernelspec": {
   "display_name": "Python 3 (ipykernel)",
   "language": "python",
   "name": "python3"
  },
  "language_info": {
   "codemirror_mode": {
    "name": "ipython",
    "version": 3
   },
   "file_extension": ".py",
   "mimetype": "text/x-python",
   "name": "python",
   "nbconvert_exporter": "python",
   "pygments_lexer": "ipython3",
   "version": "3.12.2"
  }
 },
 "nbformat": 4,
 "nbformat_minor": 5
}
